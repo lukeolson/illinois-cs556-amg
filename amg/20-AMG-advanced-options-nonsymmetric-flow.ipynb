{
 "cells": [
  {
   "cell_type": "markdown",
   "metadata": {
    "colab_type": "text",
    "id": "view-in-github"
   },
   "source": [
    "<a href=\"https://colab.research.google.com/github/lukeolson/imperial-multigrid/blob/master/lecture-3-amg-basics/20-AMG-advanced-options-nonsymmetric-flow.ipynb\" target=\"_parent\"><img src=\"https://colab.research.google.com/assets/colab-badge.svg\" alt=\"Open In Colab\"/></a>"
   ]
  },
  {
   "cell_type": "code",
   "execution_count": null,
   "metadata": {},
   "outputs": [],
   "source": [
    "# you may need to install pyamg\n",
    "!pip install pyamg"
   ]
  },
  {
   "cell_type": "code",
   "execution_count": null,
   "metadata": {},
   "outputs": [],
   "source": [
    "import numpy as np\n",
    "import scipy.io as sio\n",
    "import pyamg\n",
    "import scipy.sparse.linalg as sla\n",
    "\n",
    "import matplotlib.pyplot as plt\n",
    "from matplotlib import collections\n",
    "from matplotlib import tri\n",
    "%matplotlib inline\n",
    "\n",
    "import warnings\n",
    "warnings.simplefilter(action='ignore', category=FutureWarning)"
   ]
  },
  {
   "cell_type": "markdown",
   "metadata": {},
   "source": [
    "# recirculating flow"
   ]
  },
  {
   "cell_type": "code",
   "execution_count": null,
   "metadata": {},
   "outputs": [],
   "source": [
    "A = pyamg.gallery.load_example('recirc_flow')['A'].tocsr()"
   ]
  },
  {
   "cell_type": "code",
   "execution_count": null,
   "metadata": {},
   "outputs": [],
   "source": [
    "ml = pyamg.smoothed_aggregation_solver(A)"
   ]
  },
  {
   "cell_type": "code",
   "execution_count": null,
   "metadata": {},
   "outputs": [],
   "source": [
    "res = []\n",
    "x = ml.solve(np.random.rand(A.shape[0]), residuals=res)\n",
    "res = np.array(res)\n",
    "res"
   ]
  },
  {
   "cell_type": "markdown",
   "metadata": {},
   "source": [
    "The error explodes.  Let's see what relaxation does (or does not) do"
   ]
  },
  {
   "cell_type": "code",
   "execution_count": null,
   "metadata": {},
   "outputs": [],
   "source": [
    "x = np.random.rand(A.shape[0])\n",
    "pyamg.relaxation.relaxation.jacobi(A, x, 0*x, iterations=5, omega=4/3)\n",
    "plt.pcolormesh(x.reshape(15,15))\n",
    "plt.colorbar()"
   ]
  },
  {
   "cell_type": "markdown",
   "metadata": {},
   "source": [
    "Since Jacobi requires (sufficient) a weakly diagonally dominant matrix, this may not be the right smoother.  Let's try Gauss-Seidel on $AA^T$"
   ]
  },
  {
   "cell_type": "code",
   "execution_count": null,
   "metadata": {},
   "outputs": [],
   "source": [
    "x = np.random.rand(A.shape[0])\n",
    "pyamg.relaxation.relaxation.gauss_seidel_ne(A, x, 0*x, iterations=5, omega=4/3)\n",
    "plt.pcolormesh(x.reshape(15,15))\n",
    "plt.colorbar()"
   ]
  },
  {
   "cell_type": "code",
   "execution_count": null,
   "metadata": {},
   "outputs": [],
   "source": [
    "ml = pyamg.smoothed_aggregation_solver(A,\n",
    "        presmoother=('gauss_seidel_nr', {'sweep': 'symmetric', 'iterations': 2}),\n",
    "        postsmoother=('gauss_seidel_nr', {'sweep': 'symmetric', 'iterations': 2}),)"
   ]
  },
  {
   "cell_type": "code",
   "execution_count": null,
   "metadata": {},
   "outputs": [],
   "source": [
    "res = []\n",
    "x = ml.solve(np.random.rand(A.shape[0]), residuals=res)\n",
    "res = np.array(res)\n",
    "res[1:]/res[:-1]"
   ]
  },
  {
   "cell_type": "markdown",
   "metadata": {},
   "source": [
    "At least the problem doesn't blow up.\n",
    "\n",
    "What does the solution look like?"
   ]
  },
  {
   "cell_type": "code",
   "execution_count": null,
   "metadata": {},
   "outputs": [],
   "source": [
    "plt.pcolormesh(x.reshape(15,15))\n",
    "plt.colorbar()"
   ]
  },
  {
   "cell_type": "markdown",
   "metadata": {},
   "source": [
    "# Adding better strength"
   ]
  },
  {
   "cell_type": "code",
   "execution_count": null,
   "metadata": {},
   "outputs": [],
   "source": [
    "strength=('evolution', {'k': 2, 'proj_type': 'l2', 'epsilon': 4.0})\n",
    "ml = pyamg.smoothed_aggregation_solver(A,\n",
    "        presmoother=('gauss_seidel_nr', {'sweep': 'symmetric', 'iterations': 2}),\n",
    "        postsmoother=('gauss_seidel_nr', {'sweep': 'symmetric', 'iterations': 2}),\n",
    "                                      strength=strength)"
   ]
  },
  {
   "cell_type": "code",
   "execution_count": null,
   "metadata": {},
   "outputs": [],
   "source": [
    "res = []\n",
    "x = ml.solve(np.random.rand(A.shape[0]), residuals=res)\n",
    "res = np.array(res)\n",
    "res[1:]/res[:-1]"
   ]
  },
  {
   "cell_type": "code",
   "execution_count": null,
   "metadata": {},
   "outputs": [],
   "source": [
    "plt.pcolormesh(x.reshape(15,15))"
   ]
  },
  {
   "cell_type": "markdown",
   "metadata": {},
   "source": [
    "# Improving the candidate vectors"
   ]
  },
  {
   "cell_type": "code",
   "execution_count": null,
   "metadata": {},
   "outputs": [],
   "source": [
    "improve_candidates=[('gauss_seidel_nr', {'sweep': 'symmetric', 'iterations': 4}), None, None, None, None, None, None, None, None, None, None, None, None, None, None]\n",
    "ml = pyamg.smoothed_aggregation_solver(A,\n",
    "        presmoother=('gauss_seidel_nr', {'sweep': 'symmetric', 'iterations': 2}),\n",
    "        postsmoother=('gauss_seidel_nr', {'sweep': 'symmetric', 'iterations': 2}),\n",
    "                                      strength=strength,\n",
    "                                      improve_candidates=improve_candidates)"
   ]
  },
  {
   "cell_type": "code",
   "execution_count": null,
   "metadata": {},
   "outputs": [],
   "source": [
    "res = []\n",
    "x = ml.solve(np.random.rand(A.shape[0]), residuals=res)\n",
    "res = np.array(res)\n",
    "res[1:]/res[:-1]"
   ]
  },
  {
   "cell_type": "code",
   "execution_count": null,
   "metadata": {},
   "outputs": [],
   "source": [
    "plt.pcolormesh(x.reshape(15,15))"
   ]
  },
  {
   "cell_type": "markdown",
   "metadata": {},
   "source": [
    "# Adding energy minimization"
   ]
  },
  {
   "cell_type": "code",
   "execution_count": null,
   "metadata": {},
   "outputs": [],
   "source": [
    "smooth=('energy', {'krylov': 'gmres', 'maxiter': 2, 'degree': 1, 'weighting': 'local'})\n",
    "ml = pyamg.smoothed_aggregation_solver(A,\n",
    "        presmoother=('gauss_seidel_nr', {'sweep': 'symmetric', 'iterations': 2}),\n",
    "        postsmoother=('gauss_seidel_nr', {'sweep': 'symmetric', 'iterations': 2}),\n",
    "                                      strength=strength,\n",
    "                                      improve_candidates=improve_candidates,\n",
    "                                      smooth=smooth)"
   ]
  },
  {
   "cell_type": "code",
   "execution_count": null,
   "metadata": {},
   "outputs": [],
   "source": [
    "ml"
   ]
  },
  {
   "cell_type": "code",
   "execution_count": null,
   "metadata": {},
   "outputs": [],
   "source": [
    "res = []\n",
    "x = ml.solve(np.random.rand(A.shape[0]), residuals=res)\n",
    "res = np.array(res)\n",
    "res[1:]/res[:-1]"
   ]
  },
  {
   "cell_type": "code",
   "execution_count": null,
   "metadata": {},
   "outputs": [],
   "source": [
    "plt.pcolormesh(x.reshape(15,15))"
   ]
  },
  {
   "cell_type": "markdown",
   "metadata": {},
   "source": [
    "# Oh, right!  A Krylov accelerator"
   ]
  },
  {
   "cell_type": "code",
   "execution_count": null,
   "metadata": {},
   "outputs": [],
   "source": [
    "res = []\n",
    "x = ml.solve(np.random.rand(A.shape[0]), residuals=res, accel='gmres')\n",
    "res = np.array(res)\n",
    "res[1:]/res[:-1]"
   ]
  },
  {
   "cell_type": "code",
   "execution_count": null,
   "metadata": {},
   "outputs": [],
   "source": [
    "res"
   ]
  },
  {
   "cell_type": "code",
   "execution_count": null,
   "metadata": {},
   "outputs": [],
   "source": []
  },
  {
   "cell_type": "code",
   "execution_count": null,
   "metadata": {},
   "outputs": [],
   "source": []
  }
 ],
 "metadata": {
  "kernelspec": {
   "display_name": "Python 3",
   "language": "python",
   "name": "python3"
  },
  "language_info": {
   "codemirror_mode": {
    "name": "ipython",
    "version": 3
   },
   "file_extension": ".py",
   "mimetype": "text/x-python",
   "name": "python",
   "nbconvert_exporter": "python",
   "pygments_lexer": "ipython3",
   "version": "3.7.7"
  }
 },
 "nbformat": 4,
 "nbformat_minor": 4
}
