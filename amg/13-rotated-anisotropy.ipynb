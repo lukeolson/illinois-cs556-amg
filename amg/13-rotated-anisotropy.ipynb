{
 "cells": [
  {
   "cell_type": "markdown",
   "metadata": {
    "colab_type": "text",
    "id": "view-in-github"
   },
   "source": [
    "<a href=\"https://colab.research.google.com/github/lukeolson/imperial-multigrid/blob/master/lecture-3-amg-basics/13-rotated-anisotropy.ipynb\" target=\"_parent\"><img src=\"https://colab.research.google.com/assets/colab-badge.svg\" alt=\"Open In Colab\"/></a>"
   ]
  },
  {
   "cell_type": "code",
   "execution_count": null,
   "metadata": {},
   "outputs": [],
   "source": [
    "# you may need to install pyamg\n",
    "!pip install pyamg"
   ]
  },
  {
   "cell_type": "code",
   "execution_count": 2,
   "metadata": {},
   "outputs": [],
   "source": [
    "import scipy as sp\n",
    "import numpy as np\n",
    "import scipy.sparse as sparse\n",
    "import scipy.sparse.linalg as sla\n",
    "import matplotlib.pyplot as plt\n",
    "plt.style.use('seaborn-talk')\n",
    "\n",
    "%matplotlib inline\n",
    "\n",
    "import pyamg"
   ]
  },
  {
   "cell_type": "code",
   "execution_count": 3,
   "metadata": {},
   "outputs": [],
   "source": [
    "def trisolver(a, b, c, rhs):\n",
    "    '''\n",
    "    https://gist.github.com/TheoChristiaanse/d168b7e57dd30342a81aa1dc4eb3e469\n",
    "    '''\n",
    "    nf = len(rhs) # number of equations\n",
    "    ac, bc, cc, rhsc = map(np.array, (a, b, c, rhs)) # copy arrays\n",
    "    for it in range(1, nf):\n",
    "        mc = ac[it-1] / bc[it-1]\n",
    "        bc[it] = bc[it] - mc*cc[it-1] \n",
    "        rhsc[it] = rhsc[it] - mc*rhsc[it-1]   \n",
    "    xc = bc\n",
    "    xc[-1] = rhsc[-1] / bc[-1]\n",
    "\n",
    "    for il in range(nf-2, -1, -1):\n",
    "        xc[il] = (rhsc[il] - cc[il] * xc[il+1]) / bc[il]\n",
    "\n",
    "    return xc"
   ]
  },
  {
   "cell_type": "code",
   "execution_count": 4,
   "metadata": {},
   "outputs": [],
   "source": [
    "def pointrelax(A, u, f, nu):\n",
    "    n = A.shape[0]\n",
    "    unew = u.copy()\n",
    "    Dinv = sparse.spdiags(1./A.diagonal(), [0], n, n)\n",
    "    omega = 4 / 5\n",
    "\n",
    "    for i in range(nu):\n",
    "        unew += omega * Dinv * (f - A * unew)\n",
    "        \n",
    "    return unew\n",
    "\n",
    "def interpolation1d(nc, nf):\n",
    "    d = np.repeat([[1, 2, 1]], nc, axis=0).T\n",
    "    I = np.zeros((3,nc), dtype=int)\n",
    "    for i in range(nc):\n",
    "        I[:,i] = [2*i, 2*i+1, 2*i+2]\n",
    "    J = np.repeat([np.arange(nc)], 3, axis=0)\n",
    "    P = sparse.coo_matrix(\n",
    "        (d.ravel(), (I.ravel(), J.ravel()))\n",
    "        ).tocsr()\n",
    "    return 0.5 * P\n",
    "\n",
    "def poissonop(n, sten):\n",
    "    #sten = np.array([[0, -1, 0], [-1, 4, -1], [0, -1, 0]])\n",
    "    A = pyamg.gallery.stencil.stencil_grid(sten, (n, n))\n",
    "    return A"
   ]
  },
  {
   "cell_type": "code",
   "execution_count": 5,
   "metadata": {},
   "outputs": [],
   "source": [
    "def linerelax(A, u, f, nu,\n",
    "              sten,\n",
    "              direction='y'):\n",
    "    \"\"\"\n",
    "    'y' -- constant x\n",
    "    'x' -- constant y\n",
    "    \"\"\"\n",
    "    n = int(np.sqrt(len(f))) # assume a square grid\n",
    "    \n",
    "    # get the stride\n",
    "    # linesten -- the stencil for the 1d problem\n",
    "    # offsten -- the weak stencil entries\n",
    "    if direction == 'x':\n",
    "        stride = 1\n",
    "        linesten = sten[1,:]\n",
    "        offsten = sten[[0,2],1]\n",
    "    if direction == 'y':\n",
    "        stride = n\n",
    "        linesten = sten[:,1]\n",
    "        offsten = sten[1,[0,2]]\n",
    "    \n",
    "    # build the three vectors for the tridiagonal solver\n",
    "    T = np.array(linesten) * np.ones((n,3))\n",
    "    \n",
    "    f = f.reshape((n,n))\n",
    "    unew = u.copy()\n",
    "    unew = unew.reshape((n,n))\n",
    "    \n",
    "    # for each smoothing pass\n",
    "    for _ in range(nu):\n",
    "        # solve each line\n",
    "        for i in range(n):\n",
    "            if direction == 'x':\n",
    "                fline = f[i,:].copy()\n",
    "                if i > 1:\n",
    "                    fline -= offsten[0] * unew[i-1,:]\n",
    "                if i < (n-1):\n",
    "                    fline -= offsten[1] * unew[i+1,:]\n",
    "\n",
    "            if direction == 'y':\n",
    "                fline = f[:,i].copy()\n",
    "                if i > 1:\n",
    "                    fline -= offsten[0] * unew[:,i-1]\n",
    "                if i < (n-1):\n",
    "                    fline -= offsten[1] * unew[:,i+1]\n",
    "\n",
    "            uline = trisolver(T[:,0], T[:,1], T[:,2], fline)\n",
    "\n",
    "            if direction == 'x':\n",
    "                unew[i,:] = uline\n",
    "            if direction == 'y':\n",
    "                unew[:,i] = uline\n",
    "    return unew.ravel()"
   ]
  },
  {
   "cell_type": "code",
   "execution_count": 6,
   "metadata": {},
   "outputs": [],
   "source": [
    "def twogrid(A, P, A1, u0, f0, nu, sten=None):\n",
    "    u0 = pointrelax(A, u0, f0, nu)\n",
    "    #u0 = linerelax(A, u0, f0, nu, sten, direction='y')\n",
    "    #u0 = linerelax(A, u0, f0, nu, sten, direction='x')\n",
    "    f1 = P.T * (f0 - A * u0)\n",
    "\n",
    "    u1 = sla.spsolve(A1, f1)\n",
    "\n",
    "    u0 = u0 + P * u1\n",
    "    u0 = pointrelax(A, u0, f0, nu)\n",
    "    #u0 = linerelax(A, u0, f0, nu, sten, direction='y')\n",
    "    #u0 = linerelax(A, u0, f0, nu, sten, direction='x')\n",
    "    return u0"
   ]
  },
  {
   "cell_type": "code",
   "execution_count": 9,
   "metadata": {},
   "outputs": [
    {
     "name": "stdout",
     "output_type": "stream",
     "text": [
      "0 "
     ]
    },
    {
     "name": "stderr",
     "output_type": "stream",
     "text": [
      "/Users/lukeo/.virtualenvs/cs556/lib/python3.8/site-packages/pyamg/gallery/stencil.py:114: FutureWarning: Using a non-tuple sequence for multidimensional indexing is deprecated; use `arr[tuple(seq)]` instead of `arr[seq]`. In the future this will be interpreted as an array index, `arr[np.array(seq)]`, which will result either in an error or a different result.\n",
      "  diag[s] = 0\n",
      "/Users/lukeo/.virtualenvs/cs556/lib/python3.8/site-packages/pyamg/gallery/stencil.py:110: FutureWarning: Using a non-tuple sequence for multidimensional indexing is deprecated; use `arr[tuple(seq)]` instead of `arr[seq]`. In the future this will be interpreted as an array index, `arr[np.array(seq)]`, which will result either in an error or a different result.\n",
      "  diag[s] = 0\n"
     ]
    },
    {
     "name": "stdout",
     "output_type": "stream",
     "text": [
      "1 2 3 4 5 6 7 8 9 "
     ]
    }
   ],
   "source": [
    "k = 6\n",
    "n = 2**k - 1\n",
    "nc = 2**(k-1) - 1\n",
    "elist = np.logspace(-3,3,50)\n",
    "thlist = np.linspace(0,np.pi/4,10)\n",
    "m=20\n",
    "allres = np.zeros((len(thlist),len(elist),m))\n",
    "\n",
    "for i, theta in enumerate(thlist):\n",
    "    print(f'{i} ', end='')\n",
    "    for j, epsilon in enumerate(elist):\n",
    "        u = np.random.rand(n*n)\n",
    "        f = np.zeros((n,n)).ravel()\n",
    "        sten = pyamg.gallery.diffusion_stencil_2d(epsilon,\n",
    "                                                  theta=theta,\n",
    "                                                  type='FD')\n",
    "        A = (n+1)**2 * poissonop(n, sten)\n",
    "        P1d = interpolation1d(nc, n)\n",
    "        P = sparse.kron(P1d, P1d).tocsr()\n",
    "        A1 = P.T * A * P\n",
    "        for k in range(m):\n",
    "            u = twogrid(A, P, A1, u, f, 1, (n+1)**2 * sten)\n",
    "            res = np.linalg.norm(f - A * u)\n",
    "            allres[i,j,k] = res"
   ]
  },
  {
   "cell_type": "code",
   "execution_count": 10,
   "metadata": {},
   "outputs": [
    {
     "data": {
      "text/plain": [
       "Text(0, 0.5, 'convergence factor')"
      ]
     },
     "execution_count": 10,
     "metadata": {},
     "output_type": "execute_result"
    },
    {
     "data": {
      "image/png": "[encoded data removed]",
      "text/plain": [
       "<Figure size 432x288 with 1 Axes>"
      ]
     },
     "metadata": {
      "needs_background": "light"
     },
     "output_type": "display_data"
    }
   ],
   "source": [
    "factors = np.zeros((len(thlist), len(elist)))\n",
    "for i in range(len(thlist)):\n",
    "    for j in range(len(elist)):\n",
    "        factors[i,j] = (allres[i,j,-1] / allres[i,j,-5])**(1/5)\n",
    "\n",
    "for i in range(len(thlist)):\n",
    "    plt.semilogx(elist, factors[i,:], 'o', label=f'{thlist[i]}')\n",
    "plt.xlabel('$\\epsilon$')\n",
    "plt.ylabel('convergence factor')\n",
    "#plt.legend()"
   ]
  },
  {
   "cell_type": "code",
   "execution_count": null,
   "metadata": {},
   "outputs": [],
   "source": []
  }
 ],
 "metadata": {
  "kernelspec": {
   "display_name": "Python 3",
   "language": "python",
   "name": "python3"
  },
  "language_info": {
   "codemirror_mode": {
    "name": "ipython",
    "version": 3
   },
   "file_extension": ".py",
   "mimetype": "text/x-python",
   "name": "python",
   "nbconvert_exporter": "python",
   "pygments_lexer": "ipython3",
   "version": "3.8.6"
  }
 },
 "nbformat": 4,
 "nbformat_minor": 4
}
